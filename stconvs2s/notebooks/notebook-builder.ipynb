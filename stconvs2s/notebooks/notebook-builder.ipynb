{
 "cells": [
  {
   "cell_type": "code",
   "execution_count": 1,
   "metadata": {},
   "outputs": [],
   "source": [
    "import sys\n",
    "sys.path.append('..')\n",
    "import warnings\n",
    "warnings.filterwarnings('ignore')"
   ]
  },
  {
   "cell_type": "code",
   "execution_count": 2,
   "metadata": {},
   "outputs": [],
   "source": [
    "import os\n",
    "import numpy as np\n",
    "import xarray as xr\n",
    "import random as rd\n",
    "import platform\n",
    " \n",
    "from tool.train_evaluate import Trainer, Evaluator\n",
    "from tool.dataset import NetCDFDataset\n",
    "from tool.loss import RMSELoss\n",
    "from tool.utils import Util\n",
    "\n",
    "import torch\n",
    "import torch.nn as nn\n",
    "from torch.utils.data import Dataset, DataLoader\n",
    "from torch import optim\n",
    "%matplotlib inline"
   ]
  },
  {
   "cell_type": "markdown",
   "metadata": {},
   "source": [
    "Loading specific settings (some defined by the \"run-notebooks.sh\" script)"
   ]
  },
  {
   "cell_type": "code",
   "execution_count": 3,
   "metadata": {},
   "outputs": [],
   "source": [
    "%run settings.py"
   ]
  },
  {
   "cell_type": "code",
   "execution_count": 4,
   "metadata": {},
   "outputs": [],
   "source": [
    "util = Util(model_name, version=version, prefix=dataset)\n",
    "\n",
    "os.environ[\"CUDA_VISIBLE_DEVICES\"]=cuda\n",
    "device = torch.device('cuda' if torch.cuda.is_available() else 'cpu')\n",
    "device"
   ]
  },
  {
   "cell_type": "markdown",
   "metadata": {},
   "source": [
    "Seed (reproducibility)"
   ]
  },
  {
   "cell_type": "code",
   "execution_count": 5,
   "metadata": {},
   "outputs": [],
   "source": [
    "seed = 1000\n",
    "np.random.seed(seed)\n",
    "rd.seed(seed)\n",
    "torch.manual_seed(seed)\n",
    "torch.cuda.manual_seed(seed)\n",
    "torch.backends.cudnn.deterministic=True"
   ]
  },
  {
   "cell_type": "code",
   "execution_count": 6,
   "metadata": {},
   "outputs": [],
   "source": [
    "def init_seed(seed):\n",
    "    np.random.seed(seed)"
   ]
  },
  {
   "cell_type": "markdown",
   "metadata": {},
   "source": [
    "Loading the dataset"
   ]
  },
  {
   "cell_type": "code",
   "execution_count": 8,
   "metadata": {},
   "outputs": [],
   "source": [
    "ds = xr.open_mfdataset(dataset_file)\n",
    "if small_dataset: #useful for quick experimentation\n",
    "    ds = ds[dict(sample=slice(0,500))]"
   ]
  },
  {
   "cell_type": "code",
   "execution_count": 8,
   "metadata": {},
   "outputs": [],
   "source": [
    "train_dataset = NetCDFDataset(ds, test_split=test_split, \n",
    "                              validation_split=validation_split)\n",
    "val_dataset   = NetCDFDataset(ds, test_split=test_split, \n",
    "                              validation_split=validation_split, is_validation=True)\n",
    "test_dataset  = NetCDFDataset(ds, test_split=test_split, \n",
    "                              validation_split=validation_split, is_test=True)"
   ]
  },
  {
   "cell_type": "code",
   "execution_count": 9,
   "metadata": {},
   "outputs": [
    {
     "name": "stdout",
     "output_type": "stream",
     "text": [
      "[X_train] Shape: torch.Size([32427, 1, 5, 32, 32])\n",
      "[y_train] Shape: torch.Size([32427, 1, 5, 32, 32])\n",
      "[X_val] Shape: torch.Size([10810, 1, 5, 32, 32])\n",
      "[y_val] Shape: torch.Size([10810, 1, 5, 32, 32])\n",
      "[X_test] Shape: torch.Size([10810, 1, 5, 32, 32])\n",
      "[y_test] Shape: torch.Size([10810, 1, 5, 32, 32])\n"
     ]
    }
   ],
   "source": [
    "print('[X_train] Shape:', train_dataset.X.shape)\n",
    "print('[y_train] Shape:', train_dataset.y.shape)\n",
    "print('[X_val] Shape:', val_dataset.X.shape)\n",
    "print('[y_val] Shape:', val_dataset.y.shape)\n",
    "print('[X_test] Shape:', test_dataset.X.shape)\n",
    "print('[y_test] Shape:', test_dataset.y.shape)"
   ]
  },
  {
   "cell_type": "code",
   "execution_count": 10,
   "metadata": {},
   "outputs": [],
   "source": [
    "params = {'batch_size': batch_size,\n",
    "          'num_workers': 4, \n",
    "          'worker_init_fn': init_seed}\n",
    "\n",
    "train_loader = DataLoader(dataset=train_dataset, shuffle=True, **params)\n",
    "val_loader = DataLoader(dataset=val_dataset, shuffle=False, **params)\n",
    "test_loader = DataLoader(dataset=test_dataset, shuffle=False, **params)"
   ]
  },
  {
   "cell_type": "markdown",
   "metadata": {},
   "source": [
    "Creating the model"
   ]
  },
  {
   "cell_type": "code",
   "execution_count": 11,
   "metadata": {
    "pixiedust": {
     "displayParams": {}
    }
   },
   "outputs": [
    {
     "name": "stdout",
     "output_type": "stream",
     "text": [
      "<class 'model.stconvs2s.STConvS2S_R'>\n"
     ]
    }
   ],
   "source": [
    "model_bulder = models[model_name]\n",
    "print(model_bulder)\n",
    "\n",
    "model = model_bulder(train_dataset.X.shape, model_param['num_layers'], model_param['hidden_dim'], \n",
    "                     model_param['kernel_size'], device, dropout_rate)\n",
    "model.to(device)\n",
    "criterion = RMSELoss()\n",
    "optimizer = torch.optim.RMSprop(model.parameters(), lr=lr, alpha=0.9, eps=1e-6)"
   ]
  },
  {
   "cell_type": "markdown",
   "metadata": {},
   "source": [
    "Training the model"
   ]
  },
  {
   "cell_type": "code",
   "execution_count": null,
   "metadata": {
    "pixiedust": {
     "displayParams": {}
    }
   },
   "outputs": [
    {
     "name": "stdout",
     "output_type": "stream",
     "text": [
      "Train on 32427 samples, validate on 10810 samples\n",
      "Epoch: 1/50 - loss: 2.1977 - val_loss: 2.1770\n",
      "=> Saving a new best\n",
      "Epoch: 2/50 - loss: 1.9021 - val_loss: 1.9421\n",
      "=> Saving a new best\n",
      "Epoch: 3/50 - loss: 1.8563 - val_loss: 1.8128\n",
      "=> Saving a new best\n",
      "Epoch: 4/50 - loss: 1.8308 - val_loss: 1.9399\n",
      "Epoch: 5/50 - loss: 1.8022 - val_loss: 1.7186\n",
      "=> Saving a new best\n",
      "Epoch: 6/50 - loss: 1.7846 - val_loss: 1.8335\n",
      "Epoch: 7/50 - loss: 1.7686 - val_loss: 1.7380\n",
      "Epoch: 8/50 - loss: 1.7523 - val_loss: 1.8093\n",
      "Epoch: 9/50 - loss: 1.7418 - val_loss: 1.8017\n",
      "Epoch: 10/50 - loss: 1.7282 - val_loss: 1.7254\n",
      "Epoch: 11/50 - loss: 1.7205 - val_loss: 1.6929\n",
      "=> Saving a new best\n",
      "Epoch: 12/50 - loss: 1.7123 - val_loss: 1.6816\n",
      "=> Saving a new best\n",
      "Epoch: 13/50 - loss: 1.7030 - val_loss: 1.7083\n",
      "Epoch: 14/50 - loss: 1.6982 - val_loss: 1.6530\n",
      "=> Saving a new best\n",
      "Epoch: 15/50 - loss: 1.6930 - val_loss: 1.6654\n",
      "Epoch: 16/50 - loss: 1.6872 - val_loss: 1.6814\n",
      "Epoch: 17/50 - loss: 1.6826 - val_loss: 1.7317\n",
      "Epoch: 18/50 - loss: 1.6778 - val_loss: 1.6806\n",
      "Epoch: 19/50 - loss: 1.6751 - val_loss: 1.6694\n",
      "Epoch: 20/50 - loss: 1.6715 - val_loss: 1.6754\n",
      "Epoch: 21/50 - loss: 1.6676 - val_loss: 1.6568\n",
      "Epoch: 22/50 - loss: 1.6653 - val_loss: 1.6586\n",
      "Epoch: 23/50 - loss: 1.6625 - val_loss: 1.6509\n",
      "=> Saving a new best\n",
      "Epoch: 24/50 - loss: 1.6598 - val_loss: 1.6445\n",
      "=> Saving a new best\n",
      "Epoch: 25/50 - loss: 1.6556 - val_loss: 1.6551\n"
     ]
    }
   ],
   "source": [
    "%%time\n",
    "checkpoint_filename = util.get_checkpoint_filename()\n",
    "\n",
    "print('Train on {} samples, validate on {} samples'.format(len(train_dataset), len(val_dataset)))\n",
    "\n",
    "trainer = Trainer(model, criterion, optimizer, train_loader, val_loader, epochs, \n",
    "                  device, util, verbose=True, patience=None, no_stop=True)\n",
    "\n",
    "train_losses, val_losses = trainer.fit(checkpoint_filename, is_chirps)"
   ]
  },
  {
   "cell_type": "code",
   "execution_count": null,
   "metadata": {},
   "outputs": [],
   "source": [
    "util.save_loss(train_losses, val_losses)\n",
    "util.plot([train_losses, val_losses], ['Training', 'Validation'], \n",
    "          'Epochs', 'Loss', 'Learning curve', inline=True)"
   ]
  },
  {
   "cell_type": "markdown",
   "metadata": {},
   "source": [
    "Loading and Evaluating the model"
   ]
  },
  {
   "cell_type": "code",
   "execution_count": null,
   "metadata": {},
   "outputs": [],
   "source": [
    "test_rmse, test_mae = None, None\n",
    "evaluator = Evaluator(model, criterion, optimizer, test_loader, device, util, step)\n",
    "best_epoch, val_loss = evaluator.load_checkpoint(checkpoint_filename)\n",
    "if not(only_training):\n",
    "    test_rmse, test_mae = evaluator.eval(is_chirps=is_chirps)\n",
    "    print(f'Test RMSE: {test_rmse:.4f}')\n",
    "    print(f'Test MAE: {test_mae:.4f}')"
   ]
  },
  {
   "cell_type": "code",
   "execution_count": null,
   "metadata": {},
   "outputs": [],
   "source": [
    "if (torch.cuda.is_available()):\n",
    "    torch.cuda.empty_cache()"
   ]
  },
  {
   "cell_type": "markdown",
   "metadata": {},
   "source": [
    "Notification via email"
   ]
  },
  {
   "cell_type": "code",
   "execution_count": null,
   "metadata": {},
   "outputs": [],
   "source": [
    "model_info = {'Notebook': 'yes',\n",
    "              'best_epoch': best_epoch,\n",
    "              'val_error': val_loss,\n",
    "              'test_rmse': test_rmse,\n",
    "              'test_mae': test_mae,\n",
    "              'step': step,\n",
    "              'num_layers': model_param['num_layers'],\n",
    "              'kernel_size': model_param['kernel_size'],\n",
    "              'hidden_dim': model_param['hidden_dim'],\n",
    "              'dropout_rate': dropout_rate,\n",
    "              'learning_rate': lr,\n",
    "              'dataset': dataset,\n",
    "              'hostname': platform.node()}"
   ]
  },
  {
   "cell_type": "code",
   "execution_count": null,
   "metadata": {},
   "outputs": [],
   "source": [
    "#util.send_email(model_info)"
   ]
  }
 ],
 "metadata": {
  "kernelspec": {
   "display_name": "pytorch",
   "language": "python",
   "name": "pytorch"
  },
  "language_info": {
   "codemirror_mode": {
    "name": "ipython",
    "version": 3
   },
   "file_extension": ".py",
   "mimetype": "text/x-python",
   "name": "python",
   "nbconvert_exporter": "python",
   "pygments_lexer": "ipython3",
   "version": "3.11.5"
  }
 },
 "nbformat": 4,
 "nbformat_minor": 2
}
